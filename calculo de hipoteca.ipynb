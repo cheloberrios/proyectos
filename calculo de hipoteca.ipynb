{
  "nbformat": 4,
  "nbformat_minor": 0,
  "metadata": {
    "colab": {
      "provenance": [],
      "authorship_tag": "ABX9TyNrQR/Y1Gwj53ZtzYVqCdEg",
      "include_colab_link": true
    },
    "kernelspec": {
      "name": "python3",
      "display_name": "Python 3"
    },
    "language_info": {
      "name": "python"
    }
  },
  "cells": [
    {
      "cell_type": "markdown",
      "metadata": {
        "id": "view-in-github",
        "colab_type": "text"
      },
      "source": [
        "<a href=\"https://colab.research.google.com/github/cheloberrios/proyectos/blob/main/calculo%20de%20hipoteca.ipynb\" target=\"_parent\"><img src=\"https://colab.research.google.com/assets/colab-badge.svg\" alt=\"Open In Colab\"/></a>"
      ]
    },
    {
      "cell_type": "code",
      "execution_count": 1,
      "metadata": {
        "id": "XEgsKue9hj-F"
      },
      "outputs": [],
      "source": [
        "import pandas as pd"
      ]
    },
    {
      "cell_type": "markdown",
      "source": [
        "1) ¿De cuánto será el pago mensual de una hipoteca a 30 años (30 * 12 = 360 meses de plazo) con un capital de 400 000 dólares y un 3 % TAE (tasa de interés con comisiones incluidas)? \n",
        "\n",
        "2) ¿Cuánto es el pago mensual si la tasa de interés es del 6 %? (utilicen la misma duración del plazo y el mismo principio)"
      ],
      "metadata": {
        "id": "gdzjcZsght6s"
      }
    },
    {
      "cell_type": "code",
      "source": [
        "cantidad_prestada =  400000\n",
        "interes = 0.03/12\n",
        "pagos = 360"
      ],
      "metadata": {
        "id": "x9ha5wcXhyVf"
      },
      "execution_count": 41,
      "outputs": []
    },
    {
      "cell_type": "markdown",
      "source": [],
      "metadata": {
        "id": "n_JzbHdLkGeF"
      }
    },
    {
      "cell_type": "code",
      "source": [
        "Pago_mensual = cantidad_prestada * ((interes * (1 + interes)**pagos) / ((1 + interes)**pagos-1))"
      ],
      "metadata": {
        "id": "eUFKB041iJW_"
      },
      "execution_count": 59,
      "outputs": []
    },
    {
      "cell_type": "code",
      "source": [
        "Pago_mensual"
      ],
      "metadata": {
        "id": "z538Z_hPjGV-",
        "outputId": "467a1d2d-576b-449d-e6a2-f48f58463ce2",
        "colab": {
          "base_uri": "https://localhost:8080/"
        }
      },
      "execution_count": 60,
      "outputs": [
        {
          "output_type": "execute_result",
          "data": {
            "text/plain": [
              "1686.4161349178237"
            ]
          },
          "metadata": {},
          "execution_count": 60
        }
      ]
    },
    {
      "cell_type": "code",
      "source": [
        "cantidad_prestada2 =  400000\n",
        "interes2 = 0.06/12\n",
        "pagos2 = 360\n",
        "\n",
        "Pago_mensual2 = cantidad_prestada2 * ((interes2 * (1 + interes2)**pagos2) / ((1 + interes2)**pagos2-1))\n",
        "\n",
        "Pago_mensual2"
      ],
      "metadata": {
        "id": "CXJBfmVOlsPg",
        "outputId": "2fec7c46-9007-4e2c-c83f-049054323510",
        "colab": {
          "base_uri": "https://localhost:8080/"
        }
      },
      "execution_count": 61,
      "outputs": [
        {
          "output_type": "execute_result",
          "data": {
            "text/plain": [
              "2398.2021006110276"
            ]
          },
          "metadata": {},
          "execution_count": 61
        }
      ]
    },
    {
      "cell_type": "code",
      "source": [],
      "metadata": {
        "id": "fYjN9Mo5nK5j"
      },
      "execution_count": null,
      "outputs": []
    }
  ]
}